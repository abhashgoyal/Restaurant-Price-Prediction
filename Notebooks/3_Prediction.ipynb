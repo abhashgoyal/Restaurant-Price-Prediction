{
  "cells": [
    {
      "cell_type": "markdown",
      "metadata": {
        "id": "yJELXoiRTWfr"
      },
      "source": [
        "**[3] DISPLAY Village menu with predicted prices using ANY ML algo:**\n",
        ">IF\n",
        "\n",
        "7.1 Temp is < 45 deg. Fahrenheit (note API returns Kelvin, convert to F)  \n",
        "\n",
        "7.2 It will snow or get moderate or heavy rain\n",
        "\n",
        "7.3 Village is busier than usual\n",
        ">THEN\n",
        "\n",
        "Price should be more than lowest local price\n",
        ">ELSE\n",
        "\n",
        "Price should be lowest local price"
      ]
    },
    {
      "cell_type": "code",
      "execution_count": 22,
      "metadata": {
        "id": "FYzpyXqjTt38"
      },
      "outputs": [],
      "source": [
        "import requests"
      ]
    },
    {
      "cell_type": "code",
      "execution_count": 23,
      "metadata": {
        "id": "N6vQ9E0wQxKy"
      },
      "outputs": [],
      "source": [
        "GOOGLE_API_KEY = \"Your_GOOGLE_PLACES_API_key\"\n",
        "WEATHER_API_KEY = 'Your_OPENWEATHER_API_key'\n",
        "place_id = 'ChIJPYSDLXWBwokRHLcHIl02Kh8'"
      ]
    },
    {
      "cell_type": "code",
      "execution_count": 24,
      "metadata": {
        "id": "i84sKa6-SUyg"
      },
      "outputs": [],
      "source": [
        "def get_coordinates(place_id):\n",
        "    place_details_url = f\"https://maps.googleapis.com/maps/api/place/details/json?place_id={place_id}&fields=geometry&key={GOOGLE_API_KEY}\"\n",
        "    try:\n",
        "        response = requests.get(place_details_url)\n",
        "        response.raise_for_status()\n",
        "        data = response.json()\n",
        "\n",
        "        if 'result' in data and 'geometry' in data['result']:\n",
        "            location = data['result']['geometry']['location']\n",
        "            return location['lat'], location['lng']\n",
        "        else:\n",
        "            print(\"Failed to fetch coordinates.\")\n",
        "            return None, None\n",
        "    except requests.exceptions.RequestException as e:\n",
        "        print(f\"Error fetching place details: {e}\")\n",
        "        return None, None"
      ]
    },
    {
      "cell_type": "code",
      "execution_count": 25,
      "metadata": {
        "id": "8Z3a-hsRSXn1"
      },
      "outputs": [],
      "source": [
        "def get_nearby_restaurants(lat, lng):\n",
        "    places_url = f\"https://maps.googleapis.com/maps/api/place/nearbysearch/json?location={lat},{lng}&radius=500&types=restaurant&key={GOOGLE_API_KEY}\"\n",
        "    try:\n",
        "        response = requests.get(places_url)\n",
        "        response.raise_for_status()\n",
        "        data = response.json()\n",
        "\n",
        "        restaurant_prices = []\n",
        "        if 'results' in data:\n",
        "            for restaurant in data['results']:\n",
        "                # Extract price level from the nearby restaurants (if available)\n",
        "                price_level = restaurant.get('price_level', None)\n",
        "                if price_level is not None:\n",
        "                    # Google Places API uses a scale: 0 = free, 1 = inexpensive, 2 = moderate, 3 = expensive, 4 = very expensive\n",
        "                    restaurant_prices.append(price_level)\n",
        "        return restaurant_prices\n",
        "    except requests.exceptions.RequestException as e:\n",
        "        print(f\"Error fetching nearby places: {e}\")\n",
        "        return []"
      ]
    },
    {
      "cell_type": "code",
      "execution_count": 26,
      "metadata": {
        "colab": {
          "base_uri": "https://localhost:8080/"
        },
        "id": "Gi0n2WofQx0F",
        "outputId": "cbeb4643-8926-4634-b656-d693bb411ad0"
      },
      "outputs": [
        {
          "name": "stdout",
          "output_type": "stream",
          "text": [
            "Average price level of nearby restaurants: 1.44\n",
            "Estimated local price for a meal: $250\n"
          ]
        }
      ],
      "source": [
        "def calculate_local_price():\n",
        "    lat, lng = get_coordinates(place_id)\n",
        "\n",
        "    if lat and lng:\n",
        "        nearby_restaurants = get_nearby_restaurants(lat, lng)\n",
        "\n",
        "        if nearby_restaurants:\n",
        "            avg_price_level = sum(nearby_restaurants) / len(nearby_restaurants)\n",
        "            print(f\"Average price level of nearby restaurants: {avg_price_level:.2f}\")\n",
        "\n",
        "            if avg_price_level <= 1:\n",
        "                local_price = 100\n",
        "            elif avg_price_level == 2:\n",
        "                local_price = 150\n",
        "            elif avg_price_level == 3:\n",
        "                local_price = 200\n",
        "            else:\n",
        "                local_price = 250\n",
        "\n",
        "            print(f\"Estimated local price for a meal: ${local_price}\")\n",
        "            return local_price\n",
        "        else:\n",
        "            print(\"No nearby restaurant data available.\")\n",
        "            return 100\n",
        "    else:\n",
        "        print(\"Unable to fetch coordinates.\")\n",
        "        return 100\n",
        "\n",
        "local_price = calculate_local_price()"
      ]
    },
    {
      "cell_type": "code",
      "execution_count": 27,
      "metadata": {
        "id": "lJgVjUf3TIeZ"
      },
      "outputs": [],
      "source": [
        "def get_weather(lat, lng):\n",
        "    weather_url = f\"http://api.openweathermap.org/data/2.5/weather?lat={lat}&lon={lng}&units=metric&appid={WEATHER_API_KEY}\"\n",
        "    try:\n",
        "        response = requests.get(weather_url)\n",
        "        response.raise_for_status()\n",
        "        data = response.json()\n",
        "\n",
        "        temperature = data['main']['temp']\n",
        "        rain = data.get('rain', {}).get('1h', 0)\n",
        "        snow = data.get('snow', {}).get('1h', 0)\n",
        "\n",
        "        temperature_fahrenheit = (temperature * 9/5) + 32\n",
        "\n",
        "        return temperature_fahrenheit, rain, snow\n",
        "    except requests.exceptions.RequestException as e:\n",
        "        print(f\"Error fetching weather data: {e}\")\n",
        "        return None, None, None"
      ]
    },
    {
      "cell_type": "code",
      "execution_count": 28,
      "metadata": {
        "colab": {
          "base_uri": "https://localhost:8080/"
        },
        "id": "gOsXLg_KQ38M",
        "outputId": "ebf254ba-c2ea-4b8c-8296-8e7f99aed09b"
      },
      "outputs": [
        {
          "name": "stdout",
          "output_type": "stream",
          "text": [
            "Temperature: 40.370000000000005°F\n",
            "Rain Volume (last hour): 4.86 mm\n",
            "Snow Volume (last hour): 0 mm\n",
            "Average price level of nearby restaurants: 1.44\n",
            "Estimated local price for a meal: $250\n",
            "Local Price: 250\n",
            "Conditions met for higher pricing.\n",
            "Predicted Price: 300.00\n"
          ]
        }
      ],
      "source": [
        "def is_busier_than_usual():\n",
        "    return True\n",
        "\n",
        "def predict_price():\n",
        "    lat, lng = get_coordinates(place_id)\n",
        "\n",
        "    if lat and lng:\n",
        "        temperature, rain, snow = get_weather(lat, lng)\n",
        "\n",
        "        if temperature is None:\n",
        "            print(\"Could not fetch temperature data.\")\n",
        "            return None\n",
        "\n",
        "        print(f\"Temperature: {temperature}°F\")\n",
        "        print(f\"Rain Volume (last hour): {rain} mm\")\n",
        "        print(f\"Snow Volume (last hour): {snow} mm\")\n",
        "\n",
        "        local_price = calculate_local_price()\n",
        "        print(f\"Local Price: {local_price}\")\n",
        "\n",
        "        is_cold = temperature < 45\n",
        "        is_rain_or_snow = rain > 0 or snow > 0\n",
        "        is_busy = is_busier_than_usual()\n",
        "\n",
        "        if is_cold or is_rain_or_snow or is_busy:\n",
        "            adjusted_price = local_price * 1.2\n",
        "            print(\"Conditions met for higher pricing.\")\n",
        "        else:\n",
        "            adjusted_price = local_price\n",
        "            print(\"Conditions not met, keeping price at lowest.\")\n",
        "\n",
        "        print(f\"Predicted Price: {adjusted_price:.2f}\")\n",
        "        return adjusted_price\n",
        "    else:\n",
        "        print(\"Unable to fetch location or weather data.\")\n",
        "        return None\n",
        "\n",
        "predicted_price = predict_price()"
      ]
    }
  ],
  "metadata": {
    "colab": {
      "provenance": []
    },
    "kernelspec": {
      "display_name": "Python 3",
      "name": "python3"
    },
    "language_info": {
      "name": "python"
    }
  },
  "nbformat": 4,
  "nbformat_minor": 0
}
