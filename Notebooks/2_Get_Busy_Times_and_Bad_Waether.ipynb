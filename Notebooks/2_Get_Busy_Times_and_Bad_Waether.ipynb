{
  "cells": [
    {
      "cell_type": "markdown",
      "metadata": {
        "id": "2NPQUyWhOwqW"
      },
      "source": [
        "**[2] Get busy times & bad weather**\n",
        "\n"
      ]
    },
    {
      "cell_type": "markdown",
      "metadata": {
        "id": "R-5Jr5VZO5F2"
      },
      "source": [
        "\n",
        "\n",
        "*   Google Places API key\n",
        "*   Weather API Key\n",
        "\n"
      ]
    },
    {
      "cell_type": "code",
      "execution_count": 40,
      "metadata": {
        "id": "26FmoN5NTzu3"
      },
      "outputs": [],
      "source": [
        "import requests"
      ]
    },
    {
      "cell_type": "code",
      "execution_count": 41,
      "metadata": {
        "id": "bn4tHr6cLuPN"
      },
      "outputs": [],
      "source": [
        "GOOGLE_API_KEY = \"Your_GOOGLE_PLACES_API_key\"\n",
        "WEATHER_API_KEY = 'Your_OPENWEATHER_API_key'\n",
        "place_id = 'ChIJPYSDLXWBwokRHLcHIl02Kh8'"
      ]
    },
    {
      "cell_type": "markdown",
      "metadata": {
        "id": "fKuiLZKmPDOK"
      },
      "source": [
        "\n",
        "\n",
        "*    Get Village busy times from GMaps API\n",
        "\n"
      ]
    },
    {
      "cell_type": "code",
      "execution_count": 42,
      "metadata": {
        "colab": {
          "base_uri": "https://localhost:8080/"
        },
        "id": "qJBCGy2tHol_",
        "outputId": "522c9460-b499-4810-bb15-79f9e6f63a70"
      },
      "outputs": [
        {
          "name": "stdout",
          "output_type": "stream",
          "text": [
            "Opening Hours:\n",
            "   Monday: 11:30 AM – 3:00 PM, 5:00 – 10:00 PM\n",
            "   Tuesday: Closed\n",
            "   Wednesday: 11:30 AM – 3:00 PM, 5:00 – 10:00 PM\n",
            "   Thursday: 11:30 AM – 3:00 PM, 5:00 – 10:00 PM\n",
            "   Friday: 11:30 AM – 3:00 PM, 5:00 – 10:00 PM\n",
            "   Saturday: 11:30 AM – 3:00 PM, 5:00 – 9:50 PM\n",
            "   Sunday: 11:30 AM – 3:00 PM, 5:00 – 9:50 PM\n"
          ]
        }
      ],
      "source": [
        "place_details_url = f\"https://maps.googleapis.com/maps/api/place/details/json?place_id={place_id}&fields=name,opening_hours&key={GOOGLE_API_KEY}\"\n",
        "\n",
        "def get_detailed_opening_hours():\n",
        "    try:\n",
        "        response = requests.get(place_details_url)\n",
        "        response.raise_for_status()\n",
        "        data = response.json()\n",
        "\n",
        "        if data.get('result', {}).get('opening_hours'):\n",
        "            opening_hours = data['result']['opening_hours'].get('weekday_text', 'Not available')\n",
        "            print(\"Opening Hours:\")\n",
        "            if isinstance(opening_hours, list):\n",
        "                for day in opening_hours:\n",
        "                    print(f\"   {day}\")\n",
        "            else:\n",
        "                print(\"No detailed hours available.\")\n",
        "        else:\n",
        "            print(\"No detailed opening hours found for this place.\")\n",
        "\n",
        "    except requests.exceptions.RequestException as e:\n",
        "        print(f\"Error fetching data: {e}\")\n",
        "\n",
        "get_detailed_opening_hours()"
      ]
    },
    {
      "cell_type": "code",
      "execution_count": 43,
      "metadata": {
        "colab": {
          "base_uri": "https://localhost:8080/"
        },
        "id": "oezmwXo_Ij7X",
        "outputId": "e84e2fad-ff2b-4b17-d15c-e5c7ca5228eb"
      },
      "outputs": [
        {
          "name": "stdout",
          "output_type": "stream",
          "text": [
            "\n",
            "Average open hours per day: 8.44 hours\n"
          ]
        }
      ],
      "source": [
        "place_details_url = f\"https://maps.googleapis.com/maps/api/place/details/json?place_id={place_id}&fields=name,opening_hours&key={GOOGLE_API_KEY}\"\n",
        "\n",
        "def time_to_minutes(time_str):\n",
        "    \"\"\"Convert time in HHMM format to total minutes\"\"\"\n",
        "    hours = int(time_str[:2])\n",
        "    minutes = int(time_str[2:])\n",
        "    return hours * 60 + minutes\n",
        "\n",
        "def get_average_busy_time():\n",
        "    try:\n",
        "        response = requests.get(place_details_url)\n",
        "        response.raise_for_status()\n",
        "        data = response.json()\n",
        "\n",
        "        if data.get('result', {}).get('opening_hours'):\n",
        "            opening_hours = data['result']['opening_hours'].get('periods', [])\n",
        "            if opening_hours:\n",
        "                total_open_hours = 0\n",
        "                total_days = 0\n",
        "                day_open_hours = {}\n",
        "\n",
        "                for period in opening_hours:\n",
        "                    day = period['open']['day']\n",
        "                    open_time = period['open']['time']\n",
        "                    close_time = period['close']['time']\n",
        "\n",
        "                    open_minutes = time_to_minutes(open_time)\n",
        "                    close_minutes = time_to_minutes(close_time)\n",
        "\n",
        "                    open_duration = close_minutes - open_minutes\n",
        "                    if open_duration < 0:\n",
        "                        open_duration += 24 * 60\n",
        "\n",
        "                    if day not in day_open_hours:\n",
        "                        day_open_hours[day] = 0\n",
        "                    day_open_hours[day] += open_duration\n",
        "\n",
        "                for day, total_minutes in day_open_hours.items():\n",
        "                    hours = total_minutes // 60\n",
        "                    minutes = total_minutes % 60\n",
        "\n",
        "                    total_open_hours += total_minutes\n",
        "                    total_days += 1\n",
        "\n",
        "                if total_days > 0:\n",
        "                    average_open_hours = (total_open_hours / total_days) / 60  # Convert minutes to hours\n",
        "                    print(f\"\\nAverage open hours per day: {average_open_hours:.2f} hours\")\n",
        "                else:\n",
        "                    print(\"No opening hours data found for this place.\")\n",
        "            else:\n",
        "                print(\"No periods available in the opening hours.\")\n",
        "        else:\n",
        "            print(\"No detailed opening hours found for this place.\")\n",
        "    except requests.exceptions.RequestException as e:\n",
        "        print(f\"Error fetching data: {e}\")\n",
        "\n",
        "get_average_busy_time()\n"
      ]
    },
    {
      "cell_type": "markdown",
      "metadata": {
        "id": "xlpaVx4TPGld"
      },
      "source": [
        "\n",
        "\n",
        "*   Get temperature & rain near Village\n",
        "\n"
      ]
    },
    {
      "cell_type": "code",
      "execution_count": 46,
      "metadata": {
        "colab": {
          "base_uri": "https://localhost:8080/"
        },
        "id": "SUt6wrIpNdVm",
        "outputId": "f312ba52-ab1a-4d60-aaaa-a35a54f731f8"
      },
      "outputs": [
        {
          "name": "stdout",
          "output_type": "stream",
          "text": [
            "Current Temperature: 4.65°C or 40.370000000000005°F \n",
            "Rain Volume in the last hour: 2.37 mm\n"
          ]
        }
      ],
      "source": [
        "place_details_url_weather = f\"https://maps.googleapis.com/maps/api/place/details/json?place_id={place_id}&fields=name,geometry&key={GOOGLE_API_KEY}\"\n",
        "\n",
        "def get_coordinates():\n",
        "    \"\"\"Get the latitude and longitude of the place.\"\"\"\n",
        "    try:\n",
        "        response = requests.get(place_details_url_weather)\n",
        "        response.raise_for_status()\n",
        "        data = response.json()\n",
        "\n",
        "        if data.get('result', {}).get('geometry', {}).get('location'):\n",
        "            location = data['result']['geometry']['location']\n",
        "            return location['lat'], location['lng']\n",
        "        else:\n",
        "            print(\"Coordinates not found.\")\n",
        "            return None, None\n",
        "    except requests.exceptions.RequestException as e:\n",
        "        print(f\"Error fetching place details: {e}\")\n",
        "        return None, None\n",
        "\n",
        "def get_weather(lat, lng):\n",
        "    \"\"\"Get temperature and rain data using OpenWeather API.\"\"\"\n",
        "    weather_url = f\"http://api.openweathermap.org/data/2.5/weather?lat={lat}&lon={lng}&units=metric&appid={WEATHER_API_KEY}\"\n",
        "    try:\n",
        "        response = requests.get(weather_url)\n",
        "        response.raise_for_status()\n",
        "        data = response.json()\n",
        "\n",
        "        temperature = data['main']['temp']\n",
        "        rain = data.get('rain', {}).get('1h', 0)  # Get rain volume in the last hour, if available\n",
        "        return temperature, rain\n",
        "    except requests.exceptions.RequestException as e:\n",
        "        print(f\"Error fetching weather data: {e}\")\n",
        "        return None, None\n",
        "\n",
        "def get_temperature_and_rain():\n",
        "    lat, lng = get_coordinates()\n",
        "\n",
        "    if lat and lng:\n",
        "        temperature, rain = get_weather(lat, lng)\n",
        "        farenheit = temperature * 9/5 + 32\n",
        "        if temperature is not None:\n",
        "            print(f\"Current Temperature: {temperature}°C or {farenheit}°F \")\n",
        "        else:\n",
        "            print(\"Could not fetch temperature data.\")\n",
        "\n",
        "        if rain is not None:\n",
        "            print(f\"Rain Volume in the last hour: {rain} mm\")\n",
        "        else:\n",
        "            print(\"No rain data available in the last hour.\")\n",
        "    else:\n",
        "        print(\"Unable to fetch location data.\")\n",
        "\n",
        "get_temperature_and_rain()\n"
      ]
    }
  ],
  "metadata": {
    "colab": {
      "provenance": []
    },
    "kernelspec": {
      "display_name": "Python 3",
      "name": "python3"
    },
    "language_info": {
      "name": "python"
    }
  },
  "nbformat": 4,
  "nbformat_minor": 0
}
